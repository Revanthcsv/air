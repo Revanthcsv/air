{
 "cells": [
  {
   "cell_type": "code",
   "execution_count": 1,
   "metadata": {},
   "outputs": [],
   "source": [
    "import json\n",
    "from openaq import OpenAQ"
   ]
  },
  {
   "cell_type": "code",
   "execution_count": 2,
   "metadata": {},
   "outputs": [],
   "source": [
    "with open(\"../secrets.json\") as f:\n",
    "    secret = json.load(f)\n",
    "    f.close() #for closing file\n",
    "\n",
    "openaq_key= secret[\"openaq-api-key\"] #(67.798829, 4.592118, 97.769532, 38.285788)"
   ]
  },
  {
   "cell_type": "code",
   "execution_count": 3,
   "metadata": {},
   "outputs": [
    {
     "data": {
      "text/plain": [
       "<openaq._sync.client.OpenAQ at 0x203a51704d0>"
      ]
     },
     "execution_count": 3,
     "metadata": {},
     "output_type": "execute_result"
    }
   ],
   "source": [
    "client=OpenAQ(api_key=openaq_key)\n",
    "client"
   ]
  },
  {
   "cell_type": "code",
   "execution_count": 4,
   "metadata": {},
   "outputs": [
    {
     "data": {
      "text/plain": [
       "Meta(name='openaq-api', website='/', page=1, limit=1000, found=714)"
      ]
     },
     "execution_count": 4,
     "metadata": {},
     "output_type": "execute_result"
    }
   ],
   "source": [
    "ind_bbox_search_locations=client.locations.list(\n",
    "    bbox=(67.798829, 4.592118, 97.769532, 38.285788),\n",
    "    limit=1000\n",
    ")\n",
    "ind_bbox_search_locations.meta"
   ]
  },
  {
   "cell_type": "code",
   "execution_count": null,
   "metadata": {},
   "outputs": [],
   "source": []
  },
  {
   "cell_type": "code",
   "execution_count": 5,
   "metadata": {},
   "outputs": [
    {
     "data": {
      "text/plain": [
       "{'id': 5592,\n",
       " 'name': 'Gangapur Road, Nashik - MPCB',\n",
       " 'locality': None,\n",
       " 'timezone': 'Asia/Kolkata',\n",
       " 'country': CountryBase(id=9, code='IN', name='India'),\n",
       " 'owner': OwnerBase(id=8532, name='Maharashtra Pollution Control Board'),\n",
       " 'provider': ProviderBase(id=168, name='CPCB'),\n",
       " 'is_mobile': False,\n",
       " 'is_monitor': True,\n",
       " 'instruments': [InstrumentBase(id=2, name='Government Monitor'),\n",
       "  InstrumentBase(id=2, name='Government Monitor')],\n",
       " 'sensors': [SensorBase(id=14868, name='co µg/m³', parameter=ParameterBase(id=4, name='co', units='µg/m³', display_name='CO mass')),\n",
       "  SensorBase(id=12235630, name='co ppb', parameter=ParameterBase(id=102, name='co', units='ppb', display_name='CO')),\n",
       "  SensorBase(id=12235631, name='no ppb', parameter=ParameterBase(id=24, name='no', units='ppb', display_name='NO')),\n",
       "  SensorBase(id=12235632, name='no2 ppb', parameter=ParameterBase(id=15, name='no2', units='ppb', display_name='NO₂')),\n",
       "  SensorBase(id=14798, name='no2 µg/m³', parameter=ParameterBase(id=5, name='no2', units='µg/m³', display_name='NO₂ mass')),\n",
       "  SensorBase(id=15265, name='o3 µg/m³', parameter=ParameterBase(id=3, name='o3', units='µg/m³', display_name='O₃ mass')),\n",
       "  SensorBase(id=12235633, name='o3 µg/m³', parameter=ParameterBase(id=3, name='o3', units='µg/m³', display_name='O₃ mass')),\n",
       "  SensorBase(id=12235634, name='pm10 µg/m³', parameter=ParameterBase(id=1, name='pm10', units='µg/m³', display_name='PM10')),\n",
       "  SensorBase(id=14795, name='pm10 µg/m³', parameter=ParameterBase(id=1, name='pm10', units='µg/m³', display_name='PM10')),\n",
       "  SensorBase(id=14794, name='pm25 µg/m³', parameter=ParameterBase(id=2, name='pm25', units='µg/m³', display_name='PM2.5')),\n",
       "  SensorBase(id=12235635, name='pm25 µg/m³', parameter=ParameterBase(id=2, name='pm25', units='µg/m³', display_name='PM2.5')),\n",
       "  SensorBase(id=12235636, name='relativehumidity %', parameter=ParameterBase(id=98, name='relativehumidity', units='%', display_name='RH')),\n",
       "  SensorBase(id=12235637, name='so2 ppb', parameter=ParameterBase(id=101, name='so2', units='ppb', display_name='SO₂')),\n",
       "  SensorBase(id=14793, name='so2 µg/m³', parameter=ParameterBase(id=6, name='so2', units='µg/m³', display_name='SO₂ mass')),\n",
       "  SensorBase(id=12235638, name='temperature c', parameter=ParameterBase(id=100, name='temperature', units='c', display_name='Temperature (C)'))],\n",
       " 'coordinates': Coordinates(latitude=20.0073285, longitude=73.7762427),\n",
       " 'bounds': [73.7762427, 20.0073285, 73.7762427, 20.0073285],\n",
       " 'distance': None,\n",
       " 'datetime_first': Datetime(utc='2018-03-09T06:00:00Z', local='2018-03-09T11:30:00+05:30'),\n",
       " 'datetime_last': Datetime(utc='2025-04-15T04:00:00Z', local='2025-04-15T09:30:00+05:30')}"
      ]
     },
     "execution_count": 5,
     "metadata": {},
     "output_type": "execute_result"
    }
   ],
   "source": [
    "ind_bbox_search_locations.results[79].__dict__"
   ]
  },
  {
   "cell_type": "code",
   "execution_count": 6,
   "metadata": {},
   "outputs": [],
   "source": [
    "location_info={} #creating a dictionary\n",
    "for location in ind_bbox_search_locations.results:\n",
    "    location_info[location.id] = location.name\n",
    "\n"
   ]
  },
  {
   "cell_type": "code",
   "execution_count": 7,
   "metadata": {},
   "outputs": [
    {
     "data": {
      "text/plain": [
       "714"
      ]
     },
     "execution_count": 7,
     "metadata": {},
     "output_type": "execute_result"
    }
   ],
   "source": [
    "len(location_info)"
   ]
  },
  {
   "cell_type": "code",
   "execution_count": 9,
   "metadata": {},
   "outputs": [],
   "source": [
    "with open(\"../locations.json\", \"w\", encoding=\"utf-8\") as f:\n",
    "    json.dump(location_info, f, ensure_ascii=False, indent=4)\n",
    "    f.close()"
   ]
  },
  {
   "cell_type": "code",
   "execution_count": 10,
   "metadata": {},
   "outputs": [],
   "source": [
    "location_data = []\n",
    "\n",
    "for location in ind_bbox_search_locations.results:\n",
    "    location_info = {\n",
    "        'locationid': location.id,\n",
    "        'sensors': []\n",
    "    }\n",
    "    \n",
    "    for sensor in location.sensors:\n",
    "        sensor_info = {\n",
    "            'sensorid': sensor.id,\n",
    "            'parameter_name': sensor.parameter.name,\n",
    "            'units': sensor.parameter.units,\n",
    "            'display_name': sensor.parameter.display_name\n",
    "        }\n",
    "        location_info['sensors'].append(sensor_info)\n",
    "    \n",
    "    location_data.append(location_info)"
   ]
  },
  {
   "cell_type": "code",
   "execution_count": 11,
   "metadata": {},
   "outputs": [],
   "source": [
    "with open('../all_sensors_data.json', 'w',encoding=\"utf-8\") as json_file:\n",
    "    json.dump(location_data, json_file, indent=4,ensure_ascii=False)"
   ]
  },
  {
   "cell_type": "code",
   "execution_count": null,
   "metadata": {},
   "outputs": [],
   "source": [
    "'''\n",
    "# Extract sensors from all locations\n",
    "all_sensors_data = {}\n",
    "\n",
    "for location in ind_bbox_search_locations.results:\n",
    "    sensors_list = {}\n",
    "    for sensor in location.sensors:\n",
    "        sensor_info = {\n",
    "            \"parameter\": sensor.parameter.name,\n",
    "            \"unit\": sensor.parameter.units,\n",
    "            \"display_name\": sensor.parameter.display_name\n",
    "        }\n",
    "        sensors_list[sensor.id] = sensor_info\n",
    "    \n",
    "    all_sensors_data[location.id] = sensors_list\n",
    "\n",
    "# Save the sensor data to a JSON file\n",
    "with open('../all_sensors_data.json', \"w\",encoding=\"utf-8\") as json_file:\n",
    "    json.dump(all_sensors_data, json_file, indent=4,ensure_ascii=False)'\n",
    "'''"
   ]
  },
  {
   "cell_type": "code",
   "execution_count": null,
   "metadata": {},
   "outputs": [],
   "source": []
  },
  {
   "cell_type": "code",
   "execution_count": null,
   "metadata": {},
   "outputs": [],
   "source": []
  }
 ],
 "metadata": {
  "kernelspec": {
   "display_name": ".revs",
   "language": "python",
   "name": "python3"
  },
  "language_info": {
   "codemirror_mode": {
    "name": "ipython",
    "version": 3
   },
   "file_extension": ".py",
   "mimetype": "text/x-python",
   "name": "python",
   "nbconvert_exporter": "python",
   "pygments_lexer": "ipython3",
   "version": "3.12.3"
  }
 },
 "nbformat": 4,
 "nbformat_minor": 2
}
